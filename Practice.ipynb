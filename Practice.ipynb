{
 "cells": [
  {
   "cell_type": "code",
   "execution_count": 2,
   "id": "971f147f",
   "metadata": {},
   "outputs": [],
   "source": [
    "import pandas as pd\n",
    "import matplotlib.pyplot as plt\n",
    "import numpy as np\n",
    "from tensorflow.keras.datasets import fashion_mnist\n",
    "from tensorflow.compiler"
   ]
  },
  {
   "cell_type": "code",
   "execution_count": 3,
   "id": "ea927305",
   "metadata": {},
   "outputs": [],
   "source": [
    "(trainX,trainY),(testX,testY)=fashion_mnist.load_data()"
   ]
  },
  {
   "cell_type": "code",
   "execution_count": 4,
   "id": "648f6409",
   "metadata": {},
   "outputs": [
    {
     "name": "stdout",
     "output_type": "stream",
     "text": [
      "trainX shape (60000, 28, 28)\n",
      "trainY shape (60000,)\n"
     ]
    }
   ],
   "source": [
    "print(\"trainX shape\",trainX.shape)\n",
    "print(\"trainY shape\",trainY.shape)"
   ]
  },
  {
   "cell_type": "code",
   "execution_count": 5,
   "id": "778180b1",
   "metadata": {},
   "outputs": [
    {
     "data": {
      "text/plain": [
       "<matplotlib.image.AxesImage at 0x1581b8fd0>"
      ]
     },
     "execution_count": 5,
     "metadata": {},
     "output_type": "execute_result"
    },
    {
     "data": {
      "image/png": "[encoded data removed]",
      "text/plain": [
       "<Figure size 432x288 with 1 Axes>"
      ]
     },
     "metadata": {
      "needs_background": "light"
     },
     "output_type": "display_data"
    }
   ],
   "source": [
    "plt.imshow(trainX[1])"
   ]
  },
  {
   "cell_type": "markdown",
   "id": "063578d4",
   "metadata": {},
   "source": [
    "## 1. Preparing the data by expanding the dims of training set\n",
    "## 2. Creating a Discriminator Neural Network\n",
    "## 3. Creating an array of fake images for both train and target variable\n",
    "## 4. Creating an array of real images by randomly selecting "
   ]
  },
  {
   "cell_type": "code",
   "execution_count": 75,
   "id": "009a5bb1",
   "metadata": {},
   "outputs": [],
   "source": [
    "from tensorflow.keras import Sequential\n",
    "from tensorflow.keras.layers import Convolution2D,MaxPool2D, Dropout,Input, Dense, Flatten, LeakyReLU\n",
    "from tensorflow.keras.optimizers import Adam\n",
    "from tensorflow.keras import Model\n",
    "def gan_model(Input=Input(shape=(28,28,1))):\n",
    "    x = Convolution2D(64,(3,3),strides=(2,2),padding=\"same\")(Input)\n",
    "    x = LeakyReLU(alpha=0.2)(x)\n",
    "    x = Dropout(0.4)(x)\n",
    "    x = Convolution2D(128,(3,3),strides=(2,2),padding=\"same\")(x)\n",
    "    x = LeakyReLU(alpha=0.2)(x)\n",
    "    x = Dropout(0.4)(x)\n",
    "    x = Flatten()(x)\n",
    "    output = Dense(1, activation=\"sigmoid\")(x)\n",
    "    opt=Adam(learning_rate=0.002,beta_1=0.5)\n",
    "    model=Model(Input,output)\n",
    "    model.compile(loss=\"binary_crossentropy\", optimizer=opt, metrics=[\"Accuracy\"])\n",
    "    return model"
   ]
  },
  {
   "cell_type": "code",
   "execution_count": 76,
   "id": "6550e393",
   "metadata": {},
   "outputs": [],
   "source": [
    "from tensorflow.keras.datasets.fashion_mnist import load_data\n",
    "def load_images():\n",
    "    (trainX,_),(_,_) = load_data()\n",
    "    trainX = np.expand_dims(trainX,axis=-1)\n",
    "    trainX = trainX.astype(\"float32\")\n",
    "    trainX = trainX/255\n",
    "    return trainX"
   ]
  },
  {
   "cell_type": "code",
   "execution_count": 77,
   "id": "4fe15736",
   "metadata": {},
   "outputs": [],
   "source": [
    "from numpy.random import randint\n",
    "from numpy import ones\n",
    "def real_images(noSamples,data):\n",
    "    sample = randint(0,data.shape[0],noSamples)\n",
    "    realX = data[sample]\n",
    "    realY = ones((noSamples,1))\n",
    "    return realX,realY"
   ]
  },
  {
   "cell_type": "code",
   "execution_count": 78,
   "id": "75c07e04",
   "metadata": {},
   "outputs": [],
   "source": [
    "from numpy import zeros\n",
    "from numpy.random import randint,rand\n",
    "def fake_images(noSamples):\n",
    "    sample = rand(28*28*noSamples)\n",
    "    fakeX = sample.reshape((noSamples,28,28,1))\n",
    "    fakeY = zeros((noSamples,1))\n",
    "    return fakeX,fakeY "
   ]
  },
  {
   "cell_type": "code",
   "execution_count": 79,
   "id": "06eedd86",
   "metadata": {
    "scrolled": true
   },
   "outputs": [],
   "source": [
    "def gan(dataset,model,nIter=200,batchSize=1000):\n",
    "    for i in range(nIter):\n",
    "        fakeX,fakeY = fake_images(batchSize)\n",
    "        _,fakeAcc=model.train_on_batch(fakeX,fakeY)\n",
    "        realX,realY = real_images(batchSize,dataset)\n",
    "        _,realAcc = model.train_on_batch(realX,realY)\n",
    "    print(\"Fake:\",fakeAcc*100,\"% Real:\",realAcc*100,\"%\")\n",
    "    return model"
   ]
  },
  {
   "cell_type": "code",
   "execution_count": 80,
   "id": "0fec5161",
   "metadata": {
    "scrolled": true
   },
   "outputs": [
    {
     "name": "stdout",
     "output_type": "stream",
     "text": [
      "Fake: 0.0 % Real: 61.799997091293335 %\n"
     ]
    }
   ],
   "source": [
    "dataset = load_images()\n",
    "model = gan_model()\n",
    "model = gan(dataset,model,nIter=100,batchSize=500)"
   ]
  },
  {
   "cell_type": "code",
   "execution_count": null,
   "id": "04d3fb79",
   "metadata": {},
   "outputs": [],
   "source": []
  }
 ],
 "metadata": {
  "kernelspec": {
   "display_name": "Python 3",
   "language": "python",
   "name": "python3"
  },
  "language_info": {
   "codemirror_mode": {
    "name": "ipython",
    "version": 3
   },
   "file_extension": ".py",
   "mimetype": "text/x-python",
   "name": "python",
   "nbconvert_exporter": "python",
   "pygments_lexer": "ipython3",
   "version": "3.8.8"
  }
 },
 "nbformat": 4,
 "nbformat_minor": 5
}
